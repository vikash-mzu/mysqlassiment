{
 "cells": [
  {
   "cell_type": "markdown",
   "id": "1f4617c1-5bf5-439f-8326-6c1267f01e32",
   "metadata": {},
   "source": [
    "Q1. What is a database? Differentiate between SQL and NoSQL databases."
   ]
  },
  {
   "cell_type": "code",
   "execution_count": 2,
   "id": "cb368951-6ba8-4547-a3b8-626dbb33c8c7",
   "metadata": {},
   "outputs": [
    {
     "data": {
      "text/plain": [
       "'\\nA database is an organized collection of structured information or data, typically stored electronically in a computer system. Databases are managed by Database Management Systems (DBMS) which facilitate data storage, retrieval, and management.\\n\\nSQL (Structured Query Language) databases are relational databases that use SQL as their query language. They are designed to handle structured data with predefined schemas and relationships between tables. Examples include MySQL, PostgreSQL, and Oracle.\\n\\nNoSQL (Not Only SQL) databases are non-relational databases designed to handle unstructured or semi-structured data with flexible schemas. They are typically used for large-scale data storage and real-time web applications. Examples include MongoDB, Cassandra, and Redis.\\n\\nDifferences between SQL and NoSQL databases:\\n\\nSchema: SQL databases have a fixed schema with structured tables, while NoSQL databases have dynamic schemas with flexible data models.\\nData Model: SQL databases use tables with rows and columns; NoSQL databases use various data models like key-value pairs, documents, columns, or graphs.\\nScalability: SQL databases typically scale vertically (by increasing server capacity), while NoSQL databases often scale horizontally (by adding more servers).\\nTransactions: SQL databases provide ACID (Atomicity, Consistency, Isolation, Durability) properties, ensuring reliable transactions. NoSQL databases might provide eventual consistency rather than strict ACID compliance\\n'"
      ]
     },
     "execution_count": 2,
     "metadata": {},
     "output_type": "execute_result"
    }
   ],
   "source": [
    "'''\n",
    "A database is an organized collection of structured information or data, typically stored electronically in a computer system. Databases are managed by Database Management Systems (DBMS) which facilitate data storage, retrieval, and management.\n",
    "\n",
    "SQL (Structured Query Language) databases are relational databases that use SQL as their query language. They are designed to handle structured data with predefined schemas and relationships between tables. Examples include MySQL, PostgreSQL, and Oracle.\n",
    "\n",
    "NoSQL (Not Only SQL) databases are non-relational databases designed to handle unstructured or semi-structured data with flexible schemas. They are typically used for large-scale data storage and real-time web applications. Examples include MongoDB, Cassandra, and Redis.\n",
    "\n",
    "Differences between SQL and NoSQL databases:\n",
    "\n",
    "Schema: SQL databases have a fixed schema with structured tables, while NoSQL databases have dynamic schemas with flexible data models.\n",
    "Data Model: SQL databases use tables with rows and columns; NoSQL databases use various data models like key-value pairs, documents, columns, or graphs.\n",
    "Scalability: SQL databases typically scale vertically (by increasing server capacity), while NoSQL databases often scale horizontally (by adding more servers).\n",
    "Transactions: SQL databases provide ACID (Atomicity, Consistency, Isolation, Durability) properties, ensuring reliable transactions. NoSQL databases might provide eventual consistency rather than strict ACID compliance\n",
    "'''"
   ]
  },
  {
   "cell_type": "markdown",
   "id": "68550ae7-6460-4d23-99e7-17864a210c90",
   "metadata": {},
   "source": [
    "Q2. What is DDL? Explain why CREATE, DROP, ALTER, and TRUNCATE are used with an example."
   ]
  },
  {
   "cell_type": "code",
   "execution_count": 5,
   "id": "4584e6c8-33cd-4c4e-b369-8d7b359d84f5",
   "metadata": {},
   "outputs": [
    {
     "data": {
      "text/plain": [
       "'\\nDDL (Data Definition Language) is a subset of SQL commands used to define and manage database structures, such as tables and schemas.\\nCREATE TABLE Employees (\\n    EmployeeID INT PRIMARY KEY,\\n    Name VARCHAR(50),\\n    Position VARCHAR(50)\\n);\\n\\nDROP: Used to delete existing database objects.\\n\\n\\nDROP TABLE Employees;\\nALTER: Used to modify the structure of an existing database object.\\n\\nALTER TABLE Employees\\nADD Salary DECIMAL(10, 2);\\nTRUNCATE: Used to remove all records from a table but keep the table structure intact.\\n\\nTRUNCATE TABLE Employees;\\n'"
      ]
     },
     "execution_count": 5,
     "metadata": {},
     "output_type": "execute_result"
    }
   ],
   "source": [
    "'''\n",
    "DDL (Data Definition Language) is a subset of SQL commands used to define and manage database structures, such as tables and schemas.\n",
    "CREATE TABLE Employees (\n",
    "    EmployeeID INT PRIMARY KEY,\n",
    "    Name VARCHAR(50),\n",
    "    Position VARCHAR(50)\n",
    ");\n",
    "\n",
    "DROP: Used to delete existing database objects.\n",
    "\n",
    "\n",
    "DROP TABLE Employees;\n",
    "ALTER: Used to modify the structure of an existing database object.\n",
    "\n",
    "ALTER TABLE Employees\n",
    "ADD Salary DECIMAL(10, 2);\n",
    "TRUNCATE: Used to remove all records from a table but keep the table structure intact.\n",
    "\n",
    "TRUNCATE TABLE Employees;\n",
    "'''\n"
   ]
  },
  {
   "cell_type": "code",
   "execution_count": 7,
   "id": "508472da-3978-4ec2-8030-56a9cf7be088",
   "metadata": {},
   "outputs": [
    {
     "ename": "SyntaxError",
     "evalue": "invalid syntax (1897492880.py, line 1)",
     "output_type": "error",
     "traceback": [
      "\u001b[1;36m  Cell \u001b[1;32mIn[7], line 1\u001b[1;36m\u001b[0m\n\u001b[1;33m    Q1. What is a database? Differentiate between SQL and NoSQL databases.\u001b[0m\n\u001b[1;37m                  ^\u001b[0m\n\u001b[1;31mSyntaxError\u001b[0m\u001b[1;31m:\u001b[0m invalid syntax\n"
     ]
    }
   ],
   "source": [
    "\n",
    "Q1. What is a database? Differentiate between SQL and NoSQL databases.\n",
    "A database is an organized collection of structured information or data, typically stored electronically in a computer system. Databases are managed by Database Management Systems (DBMS) which facilitate data storage, retrieval, and management.\n",
    "\n",
    "SQL (Structured Query Language) databases are relational databases that use SQL as their query language. They are designed to handle structured data with predefined schemas and relationships between tables. Examples include MySQL, PostgreSQL, and Oracle.\n",
    "\n",
    "NoSQL (Not Only SQL) databases are non-relational databases designed to handle unstructured or semi-structured data with flexible schemas. They are typically used for large-scale data storage and real-time web applications. Examples include MongoDB, Cassandra, and Redis.\n",
    "\n",
    "Differences between SQL and NoSQL databases:\n",
    "\n",
    "Schema: SQL databases have a fixed schema with structured tables, while NoSQL databases have dynamic schemas with flexible data models.\n",
    "Data Model: SQL databases use tables with rows and columns; NoSQL databases use various data models like key-value pairs, documents, columns, or graphs.\n",
    "Scalability: SQL databases typically scale vertically (by increasing server capacity), while NoSQL databases often scale horizontally (by adding more servers).\n",
    "Transactions: SQL databases provide ACID (Atomicity, Consistency, Isolation, Durability) properties, ensuring reliable transactions. NoSQL databases might provide eventual consistency rather than strict ACID compliance.\n",
    "Q2. What is DDL? Explain why CREATE, DROP, ALTER, and TRUNCATE are used with an example.\n",
    "DDL (Data Definition Language) is a subset of SQL commands used to define and manage database structures, such as tables and schemas.\n",
    "\n",
    "CREATE: Used to create new database objects, such as tables.\n",
    "sql\n",
    "Copy code\n",
    "CREATE TABLE Employees (\n",
    "    EmployeeID INT PRIMARY KEY,\n",
    "    Name VARCHAR(50),\n",
    "    Position VARCHAR(50)\n",
    ");\n",
    "DROP: Used to delete existing database objects.\n",
    "sql\n",
    "Copy code\n",
    "DROP TABLE Employees;\n",
    "ALTER: Used to modify the structure of an existing database object.\n",
    "sql\n",
    "Copy code\n",
    "ALTER TABLE Employees\n",
    "ADD Salary DECIMAL(10, 2);\n",
    "TRUNCATE: Used to remove all records from a table but keep the table structure intact.\n",
    "sql\n",
    "Copy code\n",
    "TRUNCATE TABLE Employees;\n"
   ]
  },
  {
   "cell_type": "markdown",
   "id": "fed9d285-5c40-48b2-89b1-3dcb5efe8a39",
   "metadata": {},
   "source": [
    "Q3. What is DML? Explain INSERT, UPDATE, and DELETE with an example."
   ]
  },
  {
   "cell_type": "code",
   "execution_count": 10,
   "id": "f0e11257-32ac-4aca-a516-cdf19614f797",
   "metadata": {},
   "outputs": [
    {
     "data": {
      "text/plain": [
       "\"\\nDML (Data Manipulation Language) is a subset of SQL commands used to manipulate and manage data within existing database structures.\\n\\nINSERT: Adds new records to a table.\\n\\nINSERT INTO Employees (EmployeeID, Name, Position)\\nVALUES (1, 'John Doe', 'Developer');\\nUPDATE: Modifies existing records in a table.\\n\\nUPDATE Employees\\nSET Position = 'Senior Developer'\\nWHERE EmployeeID = 1;\\nDELETE: Removes records from a table.\\n\\nDELETE FROM Employees\\nWHERE EmployeeID = 1;\\n\""
      ]
     },
     "execution_count": 10,
     "metadata": {},
     "output_type": "execute_result"
    }
   ],
   "source": [
    "'''\n",
    "DML (Data Manipulation Language) is a subset of SQL commands used to manipulate and manage data within existing database structures.\n",
    "\n",
    "INSERT: Adds new records to a table.\n",
    "\n",
    "INSERT INTO Employees (EmployeeID, Name, Position)\n",
    "VALUES (1, 'John Doe', 'Developer');\n",
    "UPDATE: Modifies existing records in a table.\n",
    "\n",
    "UPDATE Employees\n",
    "SET Position = 'Senior Developer'\n",
    "WHERE EmployeeID = 1;\n",
    "DELETE: Removes records from a table.\n",
    "\n",
    "DELETE FROM Employees\n",
    "WHERE EmployeeID = 1;\n",
    "'''"
   ]
  },
  {
   "cell_type": "markdown",
   "id": "2c3a9715-966c-48f2-969f-9c9005afd275",
   "metadata": {},
   "source": [
    "Q4. What is DQL? Explain SELECT with an example."
   ]
  },
  {
   "cell_type": "code",
   "execution_count": 13,
   "id": "197ab0cc-9867-4d7d-b9ae-7a2f220baf6a",
   "metadata": {},
   "outputs": [
    {
     "data": {
      "text/plain": [
       "\"\\nDQL (Data Query Language) is a subset of SQL commands used to query and retrieve data from a database.\\n\\nSELECT: Retrieves data from one or more tables.\\n\\nSELECT Name, Position\\nFROM Employees\\nWHERE Position = 'Developer';\\n\""
      ]
     },
     "execution_count": 13,
     "metadata": {},
     "output_type": "execute_result"
    }
   ],
   "source": [
    "'''\n",
    "DQL (Data Query Language) is a subset of SQL commands used to query and retrieve data from a database.\n",
    "\n",
    "SELECT: Retrieves data from one or more tables.\n",
    "\n",
    "SELECT Name, Position\n",
    "FROM Employees\n",
    "WHERE Position = 'Developer';\n",
    "'''"
   ]
  },
  {
   "cell_type": "markdown",
   "id": "cd60cee8-d76d-4b60-9abd-4a74d07ac145",
   "metadata": {},
   "source": [
    "Q5. Explain Primary Key and Foreign Key."
   ]
  },
  {
   "cell_type": "code",
   "execution_count": null,
   "id": "59842acb-e643-487c-9398-9a39c5541414",
   "metadata": {},
   "outputs": [],
   "source": [
    "'''\n",
    "Primary Key: A unique identifier for each record in a table. It ensures that each record is unique and not null.\n",
    "\n",
    "sql\n",
    "Copy code\n",
    "CREATE TABLE Employees (\n",
    "    EmployeeID INT PRIMARY KEY,\n",
    "    Name VARCHAR(50)\n",
    ");\n",
    "Foreign Key: A field (or collection of fields) in one table that uniquely identifies a row of another table. It establishes a link between two tables.\n",
    "\n",
    "sql\n",
    "Copy code\n",
    "CREATE TABLE Orders (\n",
    "    OrderID INT PRIMARY KEY,\n",
    "    EmployeeID INT,\n",
    "    FOREIGN KEY (EmployeeID) REFERENCES Employees(EmployeeID)\n",
    ");\n",
    "'''"
   ]
  }
 ],
 "metadata": {
  "kernelspec": {
   "display_name": "Python 3 (ipykernel)",
   "language": "python",
   "name": "python3"
  },
  "language_info": {
   "codemirror_mode": {
    "name": "ipython",
    "version": 3
   },
   "file_extension": ".py",
   "mimetype": "text/x-python",
   "name": "python",
   "nbconvert_exporter": "python",
   "pygments_lexer": "ipython3",
   "version": "3.12.4"
  }
 },
 "nbformat": 4,
 "nbformat_minor": 5
}
